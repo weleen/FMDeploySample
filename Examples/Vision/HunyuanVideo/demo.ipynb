{
 "cells": [
  {
   "cell_type": "code",
   "execution_count": 1,
   "metadata": {},
   "outputs": [
    {
     "name": "stderr",
     "output_type": "stream",
     "text": [
      "/home/yiming/anaconda3/envs/visiongen/lib/python3.10/site-packages/tqdm/auto.py:21: TqdmWarning: IProgress not found. Please update jupyter and ipywidgets. See https://ipywidgets.readthedocs.io/en/stable/user_install.html\n",
      "  from .autonotebook import tqdm as notebook_tqdm\n"
     ]
    },
    {
     "ename": "ImportError",
     "evalue": "cannot import name 'PipelineQuantizationConfig' from 'diffusers.quantizers' (/home/yiming/anaconda3/envs/visiongen/lib/python3.10/site-packages/diffusers/quantizers/__init__.py)",
     "output_type": "error",
     "traceback": [
      "\u001b[0;31m---------------------------------------------------------------------------\u001b[0m",
      "\u001b[0;31mImportError\u001b[0m                               Traceback (most recent call last)",
      "Cell \u001b[0;32mIn[1], line 3\u001b[0m\n\u001b[1;32m      1\u001b[0m \u001b[38;5;28;01mimport\u001b[39;00m\u001b[38;5;250m \u001b[39m\u001b[38;5;21;01mtorch\u001b[39;00m\n\u001b[1;32m      2\u001b[0m \u001b[38;5;28;01mfrom\u001b[39;00m\u001b[38;5;250m \u001b[39m\u001b[38;5;21;01mdiffusers\u001b[39;00m\u001b[38;5;250m \u001b[39m\u001b[38;5;28;01mimport\u001b[39;00m AutoModel, HunyuanVideoPipeline\n\u001b[0;32m----> 3\u001b[0m \u001b[38;5;28;01mfrom\u001b[39;00m\u001b[38;5;250m \u001b[39m\u001b[38;5;21;01mdiffusers\u001b[39;00m\u001b[38;5;21;01m.\u001b[39;00m\u001b[38;5;21;01mquantizers\u001b[39;00m\u001b[38;5;250m \u001b[39m\u001b[38;5;28;01mimport\u001b[39;00m PipelineQuantizationConfig\n\u001b[1;32m      4\u001b[0m \u001b[38;5;28;01mfrom\u001b[39;00m\u001b[38;5;250m \u001b[39m\u001b[38;5;21;01mdiffusers\u001b[39;00m\u001b[38;5;21;01m.\u001b[39;00m\u001b[38;5;21;01mutils\u001b[39;00m\u001b[38;5;250m \u001b[39m\u001b[38;5;28;01mimport\u001b[39;00m export_to_video\n\u001b[1;32m      6\u001b[0m \u001b[38;5;66;03m# quantize weights to int4 with bitsandbytes\u001b[39;00m\n",
      "\u001b[0;31mImportError\u001b[0m: cannot import name 'PipelineQuantizationConfig' from 'diffusers.quantizers' (/home/yiming/anaconda3/envs/visiongen/lib/python3.10/site-packages/diffusers/quantizers/__init__.py)"
     ]
    }
   ],
   "source": [
    "import torch\n",
    "from diffusers import AutoModel, HunyuanVideoPipeline\n",
    "from diffusers.quantizers import PipelineQuantizationConfig\n",
    "from diffusers.utils import export_to_video\n",
    "\n",
    "# quantize weights to int4 with bitsandbytes\n",
    "pipeline_quant_config = PipelineQuantizationConfig(\n",
    "    quant_backend=\"bitsandbytes_4bit\",\n",
    "    quant_kwargs={\n",
    "      \"load_in_4bit\": True,\n",
    "      \"bnb_4bit_quant_type\": \"nf4\",\n",
    "      \"bnb_4bit_compute_dtype\": torch.bfloat16\n",
    "      },\n",
    "    components_to_quantize=[\"transformer\"]\n",
    ")\n",
    "\n",
    "pipeline = HunyuanVideoPipeline.from_pretrained(\n",
    "    \"hunyuanvideo-community/HunyuanVideo\",\n",
    "    quantization_config=pipeline_quant_config,\n",
    "    torch_dtype=torch.bfloat16,\n",
    ")\n",
    "\n",
    "# model-offloading and tiling\n",
    "pipeline.enable_model_cpu_offload()\n",
    "pipeline.vae.enable_tiling()\n",
    "\n",
    "prompt = \"A fluffy teddy bear sits on a bed of soft pillows surrounded by children's toys.\"\n",
    "video = pipeline(prompt=prompt, num_frames=61, num_inference_steps=30).frames[0]\n",
    "export_to_video(video, \"output.mp4\", fps=15)"
   ]
  }
 ],
 "metadata": {
  "kernelspec": {
   "display_name": "diffusers",
   "language": "python",
   "name": "python3"
  },
  "language_info": {
   "codemirror_mode": {
    "name": "ipython",
    "version": 3
   },
   "file_extension": ".py",
   "mimetype": "text/x-python",
   "name": "python",
   "nbconvert_exporter": "python",
   "pygments_lexer": "ipython3",
   "version": "undefined.undefined.undefined"
  }
 },
 "nbformat": 4,
 "nbformat_minor": 2
}
