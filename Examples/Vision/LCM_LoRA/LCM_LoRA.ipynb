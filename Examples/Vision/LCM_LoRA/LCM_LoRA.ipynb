{
 "cells": [
  {
   "cell_type": "code",
   "execution_count": null,
   "metadata": {},
   "outputs": [],
   "source": [
    "from diffusers import DiffusionPipeline\n",
    "import torch\n",
    "from diffusers.utils import make_image_grid\n",
    "\n",
    "pipe = DiffusionPipeline.from_pretrained(\"SimianLuo/LCM_Dreamshaper_v7\")\n",
    "\n",
    "# To save GPU memory, torch.float16 can be used, but it may compromise image quality.\n",
    "pipe.to(torch_device=\"cuda\", torch_dtype=torch.float32)\n",
    "\n",
    "prompt = [\n",
    "    \"portrait photo of the oldest warrior chief, tribal panther make up, blue on red, side profile, looking away, serious eyes 50mm portrait photography, hard rim lighting photography--beta --ar 2:3  --beta --upbeta\",\n",
    "    \"Self-portrait oil painting, a beautiful cyborg with golden hair, 8k\",\n",
    "    \"A cinematic shot of a baby racoon wearing an intricate italian priest robe.\"]\n",
    "# Can be set to 1~50 steps. LCM support fast inference even <= 4 steps. Recommend: 1~8 steps.\n",
    "num_inference_steps = 4\n",
    "\n",
    "images = pipe(prompt=prompt, num_inference_steps=num_inference_steps, num_images_per_prompt=8, guidance_scale=8.0, lcm_origin_steps=50, output_type=\"pil\").images\n",
    "make_image_grid(images, rows=len(prompt), cols=8).save(\"lcm_lora.png\")"
   ]
  }
 ],
 "metadata": {
  "language_info": {
   "name": "python"
  }
 },
 "nbformat": 4,
 "nbformat_minor": 2
}
