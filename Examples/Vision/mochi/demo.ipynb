{
 "cells": [
  {
   "cell_type": "code",
   "execution_count": null,
   "metadata": {},
   "outputs": [],
   "source": [
    "# install "
   ]
  },
  {
   "cell_type": "code",
   "execution_count": null,
   "metadata": {},
   "outputs": [],
   "source": [
    "from genmo.mochi_preview.pipelines import (\n",
    "    DecoderModelFactory,\n",
    "    DitModelFactory,\n",
    "    MochiSingleGPUPipeline,\n",
    "    T5ModelFactory,\n",
    "    linear_quadratic_schedule,\n",
    ")\n",
    "\n",
    "pipeline = MochiSingleGPUPipeline(\n",
    "    text_encoder_factory=T5ModelFactory(),\n",
    "    dit_factory=DitModelFactory(\n",
    "        model_path=f\"weights/dit.safetensors\", model_dtype=\"bf16\"\n",
    "    ),\n",
    "    decoder_factory=DecoderModelFactory(\n",
    "        model_path=f\"weights/decoder.safetensors\",\n",
    "    ),\n",
    "    cpu_offload=True,\n",
    "    decode_type=\"tiled_spatial\",\n",
    ")\n",
    "\n",
    "video = pipeline(\n",
    "    height=480,\n",
    "    width=848,\n",
    "    num_frames=31,\n",
    "    num_inference_steps=64,\n",
    "    sigma_schedule=linear_quadratic_schedule(64, 0.025),\n",
    "    cfg_schedule=[6.0] * 64,\n",
    "    batch_cfg=False,\n",
    "    prompt=\"your favorite prompt here ...\",\n",
    "    negative_prompt=\"\",\n",
    "    seed=12345,\n",
    ")"
   ]
  }
 ],
 "metadata": {
  "language_info": {
   "name": "python"
  }
 },
 "nbformat": 4,
 "nbformat_minor": 2
}
